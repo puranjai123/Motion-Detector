{
 "cells": [
  {
   "cell_type": "code",
   "execution_count": 1,
   "metadata": {},
   "outputs": [],
   "source": [
    "import cv2,time\n",
    "from datetime import datetime\n",
    "import pandas as pd"
   ]
  },
  {
   "cell_type": "code",
   "execution_count": 4,
   "metadata": {},
   "outputs": [
    {
     "name": "stdout",
     "output_type": "stream",
     "text": [
      "[0, 0]\n",
      "[datetime.datetime(2020, 9, 20, 9, 52, 5, 481082), datetime.datetime(2020, 9, 20, 9, 52, 5, 565723), datetime.datetime(2020, 9, 20, 9, 52, 5, 603481), datetime.datetime(2020, 9, 20, 9, 52, 5, 703759), datetime.datetime(2020, 9, 20, 9, 52, 6, 784470), datetime.datetime(2020, 9, 20, 9, 52, 6, 822279), datetime.datetime(2020, 9, 20, 9, 52, 6, 853523), datetime.datetime(2020, 9, 20, 9, 52, 6, 906954), datetime.datetime(2020, 9, 20, 9, 52, 7, 586925), datetime.datetime(2020, 9, 20, 9, 52, 7, 724643), datetime.datetime(2020, 9, 20, 9, 52, 7, 755902), datetime.datetime(2020, 9, 20, 9, 52, 7, 824496), datetime.datetime(2020, 9, 20, 9, 52, 8, 889154), datetime.datetime(2020, 9, 20, 9, 52, 8, 973763), datetime.datetime(2020, 9, 20, 9, 52, 9, 11545), datetime.datetime(2020, 9, 20, 9, 52, 9, 42801), datetime.datetime(2020, 9, 20, 9, 52, 9, 74072), datetime.datetime(2020, 9, 20, 9, 52, 9, 227723), datetime.datetime(2020, 9, 20, 9, 52, 9, 258987), datetime.datetime(2020, 9, 20, 9, 52, 9, 290204), datetime.datetime(2020, 9, 20, 9, 52, 9, 744708), datetime.datetime(2020, 9, 20, 9, 52, 9, 844966), datetime.datetime(2020, 9, 20, 9, 52, 9, 876208), datetime.datetime(2020, 9, 20, 9, 52, 9, 945241), datetime.datetime(2020, 9, 20, 9, 52, 9, 976509), datetime.datetime(2020, 9, 20, 9, 52, 10, 61173), datetime.datetime(2020, 9, 20, 9, 52, 10, 92375), datetime.datetime(2020, 9, 20, 9, 52, 10, 177009), datetime.datetime(2020, 9, 20, 9, 52, 10, 292907), datetime.datetime(2020, 9, 20, 9, 52, 10, 330686), datetime.datetime(2020, 9, 20, 9, 52, 10, 693990), datetime.datetime(2020, 9, 20, 9, 52, 10, 778595), datetime.datetime(2020, 9, 20, 9, 52, 10, 831988), datetime.datetime(2020, 9, 20, 9, 52, 10, 863237), datetime.datetime(2020, 9, 20, 9, 52, 12, 35240), datetime.datetime(2020, 9, 20, 9, 52, 12, 66479), datetime.datetime(2020, 9, 20, 9, 52, 12, 97722), datetime.datetime(2020, 9, 20, 9, 52, 12, 198024)]\n"
     ]
    }
   ],
   "source": [
    "first_frame=None\n",
    "times=[]\n",
    "status_list=[None,None]\n",
    "df=pd.DataFrame(columns=[\"Start\",\"End\"])\n",
    "\n",
    "cap=cv2.VideoCapture(0)\n",
    "ret,frame1=cap.read()\n",
    "ret,frame2=cap.read()\n",
    "while cap.isOpened():\n",
    "    status=0\n",
    "    diff=cv2.absdiff(frame1,frame2)\n",
    "    gray=cv2.cvtColor(diff,cv2.COLOR_BGR2GRAY)\n",
    "    blur=cv2.GaussianBlur(gray,(5,5),0)\n",
    "    if first_frame is None:\n",
    "        first_frame=gray\n",
    "        continue\n",
    "    diff=cv2.absdiff(first_frame,gray)    \n",
    "    _,thresh=cv2.threshold(diff,20,255,cv2.THRESH_BINARY)\n",
    "    dilated=cv2.dilate(thresh,None,iterations=3)\n",
    "    contours,_=cv2.findContours(dilated,cv2.RETR_TREE,cv2.CHAIN_APPROX_SIMPLE)\n",
    "    \n",
    "    for contour in contours:\n",
    "        (x,y,w,h)=cv2.boundingRect(contour)\n",
    "        \n",
    "        if cv2.contourArea(contour)<3000:\n",
    "            continue   \n",
    "        status=1    \n",
    "        cv2.rectangle(frame1,(x,y),(x+w,y+h),(0,255,0),2)\n",
    "        cv2.putText(frame1,\"Status:{}\".format('Movement'),(50,30),cv2.FONT_HERSHEY_SIMPLEX,1,(255,0,0),3)\n",
    "    #cv2.drawContours(frame1,contours,-1,(0,255,0),2)\n",
    "    status_list.append(status)\n",
    "    status_list=status_list[-2:]\n",
    "    \n",
    "    if status_list[-1]==1 and status_list[-2]==0:\n",
    "        times.append(datetime.now())\n",
    "    if status_list[-1]==0 and status_list[-2]==1:\n",
    "        times.append(datetime.now())\n",
    "    cv2.imshow('gray',gray)\n",
    "    cv2.imshow('delta',diff)\n",
    "    cv2.imshow('thresh',dilated)    \n",
    "    \n",
    "    cv2.imshow('feed',frame1)\n",
    "    frame1=frame2\n",
    "    ret,frame2=cap.read()\n",
    "    k=cv2.waitKey(15)\n",
    "    if k==ord('q'):\n",
    "        if status==1:\n",
    "            times.append(datetime.now())\n",
    "        break\n",
    "print(status_list)\n",
    "print(times)\n",
    "cv2.destroyAllWindows()\n",
    "cap.release()\n",
    "    "
   ]
  },
  {
   "cell_type": "code",
   "execution_count": 2,
   "metadata": {},
   "outputs": [
    {
     "data": {
      "text/plain": [
       "-1"
      ]
     },
     "execution_count": 2,
     "metadata": {},
     "output_type": "execute_result"
    }
   ],
   "source": []
  },
  {
   "cell_type": "code",
   "execution_count": null,
   "metadata": {},
   "outputs": [],
   "source": []
  }
 ],
 "metadata": {
  "kernelspec": {
   "display_name": "Python 3",
   "language": "python",
   "name": "python3"
  },
  "language_info": {
   "codemirror_mode": {
    "name": "ipython",
    "version": 3
   },
   "file_extension": ".py",
   "mimetype": "text/x-python",
   "name": "python",
   "nbconvert_exporter": "python",
   "pygments_lexer": "ipython3",
   "version": "3.7.4"
  }
 },
 "nbformat": 4,
 "nbformat_minor": 4
}
